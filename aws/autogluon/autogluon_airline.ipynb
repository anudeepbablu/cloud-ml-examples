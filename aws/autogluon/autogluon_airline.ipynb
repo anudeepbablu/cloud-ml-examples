{
 "cells": [
  {
   "cell_type": "markdown",
   "id": "2fb9add2",
   "metadata": {},
   "source": [
    "# AutoGluon and RAPIDS"
   ]
  },
  {
   "cell_type": "markdown",
   "id": "06f709d8",
   "metadata": {},
   "source": [
    "Recently we integrated RAPIDS with AutoGluon -- big thanks to [Nick Erickson](https://github.com/Innixma) for leading this effort!\n",
    "\n",
    "[AutoGluon](https://auto.gluon.ai/stable/index.html) automates machine learning tasks enabling you to easily achieve strong predictive performance in your applications. With just a few lines of code, you can train and deploy high-accuracy machine learning and deep learning models on text, image, and tabular data.\n",
    "\n",
    "For more on AutoGluon check out the following [AWS Machine Learning Blog](https://aws.amazon.com/blogs/opensource/machine-learning-with-autogluon-an-open-source-automl-library/)."
   ]
  },
  {
   "cell_type": "markdown",
   "id": "74af623b",
   "metadata": {},
   "source": [
    "# Demo Overview"
   ]
  },
  {
   "cell_type": "markdown",
   "id": "1676e630",
   "metadata": {},
   "source": [
    "In the notebook below, we demonstrate how easy it is to use a GPU accelerated algorithm ensemble powered by RAPIDS and XGBoost to find a high performing model on a tabular dataset.\n",
    "\n",
    "Specifically we'll leverage the Airline ([Airline On-Time Statistics](https://www.transtats.bts.gov/ONTIME/) dataset from the US Bureau of Transportation, and our machine learning objective is to predict whether flights will be more than 15 minutes late arriving to their destination. \n",
    "\n",
    "Note that this demo assumes that the following [lifecycle script](https://github.com/rapidsai/cloud-ml-examples/blob/main/aws/environment_setup/lifecycle_script) has run to install RAPIDS into the SageMaker Jupyter set of available kernels (should show up as rapids-18). For more details on how to create and activate a lifecycle script so that it executes during launch of the notebook instance refer to these [instructions](https://docs.aws.amazon.com/sagemaker/latest/dg/notebook-lifecycle-config.html).\n",
    "\n",
    "The flow of the dataset is as follows:\n",
    "1. Download 115 million flights (spanning 1987-2008), \n",
    "2. Randomly sampling just 1 million flights,\n",
    "3. Run an AutoGluon ensemble of 3 models (RandomForest, K-NearestNeighbors, and XGBoost)"
   ]
  },
  {
   "cell_type": "markdown",
   "id": "7120a669",
   "metadata": {},
   "source": [
    "# Install AutoGluon into the RAPIDS kernel"
   ]
  },
  {
   "cell_type": "markdown",
   "id": "14959cbc",
   "metadata": {},
   "source": [
    "Since the lifecycle configuration script needs to finish in 5 minutes or less, we did not have time to install AutoGluon while the RAPIDS kernel was being added to the SageMaker notebook instance. As a result we will do the AutoGluon step live in the notebook below."
   ]
  },
  {
   "cell_type": "code",
   "execution_count": null,
   "id": "58635784",
   "metadata": {},
   "outputs": [],
   "source": [
    "!source /home/ec2-user/rapids_kernel/bin/activate && pip install --pre autogluon"
   ]
  },
  {
   "cell_type": "markdown",
   "id": "69371d06",
   "metadata": {},
   "source": [
    "# Import AutoGluon"
   ]
  },
  {
   "cell_type": "code",
   "execution_count": null,
   "id": "6da85c70",
   "metadata": {},
   "outputs": [],
   "source": [
    "import warnings\n",
    "warnings.filterwarnings('ignore')"
   ]
  },
  {
   "cell_type": "code",
   "execution_count": null,
   "id": "b04609ca",
   "metadata": {},
   "outputs": [],
   "source": [
    "from autogluon.tabular import TabularDataset, TabularPredictor\n",
    "from autogluon.core.utils import generate_train_test_split"
   ]
  },
  {
   "cell_type": "markdown",
   "id": "bcd14838",
   "metadata": {},
   "source": [
    "# Download Data and Create TabularDataset Object"
   ]
  },
  {
   "cell_type": "code",
   "execution_count": null,
   "id": "03a7cce4",
   "metadata": {},
   "outputs": [],
   "source": [
    "path_prefix = 'https://sagemaker-rapids-hpo-us-west-2.s3-us-west-2.amazonaws.com/autogluon/'\n",
    "path_train = path_prefix + 'train_data.parquet'\n",
    "\n",
    "data = TabularDataset(path_train)"
   ]
  },
  {
   "cell_type": "markdown",
   "id": "f34bf26b",
   "metadata": {},
   "source": [
    "Let's take a brief look at the dataframe below, note that the shape of the data is 115M by 14 columns (13 features and 1 target label)."
   ]
  },
  {
   "cell_type": "code",
   "execution_count": null,
   "id": "2a2e3256",
   "metadata": {},
   "outputs": [],
   "source": [
    "data"
   ]
  },
  {
   "cell_type": "markdown",
   "id": "8ca24672",
   "metadata": {},
   "source": [
    "# Randomly Sample 1Million Flights"
   ]
  },
  {
   "cell_type": "markdown",
   "id": "75d9a23a",
   "metadata": {},
   "source": [
    "Since this is only a demo, we will reduce the size of the dataset to 1 million randomly sampled flights in order to make the runtime fairly short. Feel free to modify the random seed in order to get a different set of flights to train with."
   ]
  },
  {
   "cell_type": "code",
   "execution_count": null,
   "id": "8637896e",
   "metadata": {},
   "outputs": [],
   "source": [
    "LABEL = 'target'\n",
    "SAMPLE = 1_000_000"
   ]
  },
  {
   "cell_type": "code",
   "execution_count": null,
   "id": "934be366",
   "metadata": {},
   "outputs": [],
   "source": [
    "if SAMPLE is not None and SAMPLE < len(data):\n",
    "    data = data.sample(n=SAMPLE, random_state=0)"
   ]
  },
  {
   "cell_type": "code",
   "execution_count": null,
   "id": "004f19a5",
   "metadata": {},
   "outputs": [],
   "source": [
    "data.shape"
   ]
  },
  {
   "cell_type": "markdown",
   "id": "23410716",
   "metadata": {},
   "source": [
    "# Split Train and Test Data"
   ]
  },
  {
   "cell_type": "markdown",
   "id": "34f20f8c",
   "metadata": {},
   "source": [
    "Next we'll separate the data into a training set and a test set. The train set will be used to update our models' parameters, while the test set will be used to evaluate the model performance on data unseen in training."
   ]
  },
  {
   "cell_type": "code",
   "execution_count": null,
   "id": "c2a26f34",
   "metadata": {},
   "outputs": [],
   "source": [
    "train_data, test_data, train_labels, test_labels = generate_train_test_split(\n",
    "    X=data.drop(LABEL, axis=1),\n",
    "    y=data[LABEL],\n",
    "    problem_type='binary',\n",
    "    test_size=0.1\n",
    ")\n",
    "train_data[LABEL] = train_labels\n",
    "test_data[LABEL] = test_labels"
   ]
  },
  {
   "cell_type": "markdown",
   "id": "748c79e0",
   "metadata": {},
   "source": [
    "# Run AutoGluon with Multiple RAPIDS Models"
   ]
  },
  {
   "cell_type": "markdown",
   "id": "0d258d80",
   "metadata": {},
   "source": [
    "With our dataset downloaded and split, we can now call our AutoGluon AutoML library to do some automated pre-processing (e.g., label encoding), as well as to train a stacked ensemble of models to reach optimal peformance on our airline delay prediction task."
   ]
  },
  {
   "cell_type": "code",
   "execution_count": null,
   "id": "11865b90",
   "metadata": {},
   "outputs": [],
   "source": [
    "from autogluon.tabular.models.rf.rf_rapids_model import RFRapidsModel\n",
    "from autogluon.tabular.models.knn.knn_rapids_model import KNNRapidsModel\n",
    "from autogluon.tabular.models.lr.lr_rapids_model import LinearRapidsModel\n",
    "\n",
    "predictor = TabularPredictor(\n",
    "    label=LABEL,\n",
    "    verbosity=3,\n",
    ").fit(\n",
    "    train_data=train_data,\n",
    "    hyperparameters={        \n",
    "        KNNRapidsModel : {},\n",
    "        LinearRapidsModel : {},\n",
    "        RFRapidsModel : {'n_estimators': 100},\n",
    "        'XGB': {'ag_args_fit': {'num_gpus': 1},  'tree_method': 'gpu_hist', 'ag.early_stop': 10000},\n",
    "    },\n",
    "    time_limit=2000,\n",
    ")"
   ]
  },
  {
   "cell_type": "code",
   "execution_count": null,
   "id": "72c35962",
   "metadata": {},
   "outputs": [],
   "source": [
    "leaderboard = predictor.leaderboard()\n",
    "\n",
    "leaderboard = predictor.leaderboard(test_data)"
   ]
  },
  {
   "cell_type": "markdown",
   "id": "86f6b52b",
   "metadata": {},
   "source": [
    "# Summary"
   ]
  },
  {
   "cell_type": "markdown",
   "id": "d576276d",
   "metadata": {},
   "source": [
    "As we can see from the results XGBoost model carries the majority of the acccuracy in the ensemble. This is not too surprising given that we allowed the XGBoost model to grow up to 10000 trees, while the RandomForest model was capped at 100. We invite you to experiment with different settings if you are curious to adapt the performance of the ensemble.\n",
    "\n",
    "Hopefully this example shows how straightforward it is to run AutoML on tabular data with AutoGluon and RAPIDS working together!"
   ]
  }
 ],
 "metadata": {
  "kernelspec": {
   "display_name": "Python 3",
   "language": "python",
   "name": "python3"
  },
  "language_info": {
   "codemirror_mode": {
    "name": "ipython",
    "version": 3
   },
   "file_extension": ".py",
   "mimetype": "text/x-python",
   "name": "python",
   "nbconvert_exporter": "python",
   "pygments_lexer": "ipython3",
   "version": "3.8.8"
  }
 },
 "nbformat": 4,
 "nbformat_minor": 5
}
