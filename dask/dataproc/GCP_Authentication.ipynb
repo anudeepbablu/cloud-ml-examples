{
 "cells": [
  {
   "cell_type": "markdown",
   "id": "welcome-nebraska",
   "metadata": {},
   "source": [
    "### Google Cloud Authentication"
   ]
  },
  {
   "cell_type": "code",
   "execution_count": 1,
   "id": "positive-break",
   "metadata": {},
   "outputs": [
    {
     "name": "stdout",
     "output_type": "stream",
     "text": [
      "Activated service account credentials for: [anallamothu-dask-cluster@k80-exploration.iam.gserviceaccount.com]\r\n"
     ]
    }
   ],
   "source": [
    "#!gcloud auth activate-service-account --key-file k80-exploration-key.json"
   ]
  },
  {
   "cell_type": "code",
   "execution_count": 9,
   "id": "corporate-entrepreneur",
   "metadata": {},
   "outputs": [
    {
     "name": "stdout",
     "output_type": "stream",
     "text": [
      "Updated property [core/project].\n",
      "\u001b[1;33mWARNING:\u001b[0m You do not appear to have access to project [k80-exploration] or it does not exist.\n"
     ]
    }
   ],
   "source": [
    "#!gcloud config set project k80-exploration"
   ]
  },
  {
   "cell_type": "code",
   "execution_count": 3,
   "id": "structural-federal",
   "metadata": {},
   "outputs": [
    {
     "name": "stdout",
     "output_type": "stream",
     "text": [
      "NAME                     CPUS    DISKS_GB      ADDRESSES  RESERVED_ADDRESSES  STATUS  TURNDOWN_DATE\r\n",
      "asia-east1               0/2400  0/1000000     0/2300     0/700               UP\r\n",
      "asia-east2               0/2400  0/1000000     0/2300     0/700               UP\r\n",
      "asia-northeast1          0/2400  0/1000000     0/2300     0/700               UP\r\n",
      "asia-northeast2          0/24    0/10240       0/23       0/8                 UP\r\n",
      "asia-northeast3          0/24    0/10240       0/23       0/8                 UP\r\n",
      "asia-south1              0/2400  0/1000000     0/2300     0/700               UP\r\n",
      "asia-southeast1          0/2400  0/1000000     0/2300     0/700               UP\r\n",
      "asia-southeast2          0/24    0/10240       0/23       0/8                 UP\r\n",
      "australia-southeast1     0/2400  0/1000000     0/2300     0/700               UP\r\n",
      "europe-central2          0/24    0/10240       0/23       0/8                 UP\r\n",
      "europe-north1            0/24    0/10240       0/23       0/8                 UP\r\n",
      "europe-west1             0/2400  0/1000000     0/2300     0/700               UP\r\n",
      "europe-west2             0/2400  0/1000000     0/2300     0/700               UP\r\n",
      "europe-west3             0/24    0/10240       0/23       0/8                 UP\r\n",
      "europe-west4             0/4800  0/1000000     0/2300     2/700               UP\r\n",
      "europe-west6             0/24    0/10240       0/23       0/8                 UP\r\n",
      "northamerica-northeast1  0/2400  0/1000000     0/2300     0/700               UP\r\n",
      "southamerica-east1       0/2400  0/1000000     0/2300     0/700               UP\r\n",
      "us-central1              0/750   5728/1000000  0/64       3/700               UP\r\n",
      "us-east1                 0/128   50/1000000    0/2300     0/7                 UP\r\n",
      "us-east4                 0/2400  0/1000000     0/2300     0/700               UP\r\n",
      "us-west1                 0/1540  550/30720     0/2300     0/14                UP\r\n",
      "us-west2                 0/2400  0/1000000     0/2300     0/700               UP\r\n",
      "us-west3                 0/24    0/10240       0/23       0/8                 UP\r\n",
      "us-west4                 0/24    0/10240       0/23       0/8                 UP\r\n"
     ]
    }
   ],
   "source": [
    "!gcloud compute regions list"
   ]
  },
  {
   "cell_type": "code",
   "execution_count": 4,
   "id": "coordinate-spread",
   "metadata": {},
   "outputs": [
    {
     "name": "stdout",
     "output_type": "stream",
     "text": [
      "Updated property [compute/region].\r\n"
     ]
    }
   ],
   "source": [
    "!gcloud config set compute/region us-central1"
   ]
  },
  {
   "cell_type": "code",
   "execution_count": 6,
   "id": "interesting-subject",
   "metadata": {},
   "outputs": [
    {
     "name": "stdout",
     "output_type": "stream",
     "text": [
      "Updated property [compute/zone].\r\n"
     ]
    }
   ],
   "source": [
    "!gcloud config set compute/zone us-central1-a"
   ]
  },
  {
   "cell_type": "code",
   "execution_count": 7,
   "id": "tight-tract",
   "metadata": {},
   "outputs": [
    {
     "name": "stdout",
     "output_type": "stream",
     "text": [
      "[compute]\r\n",
      "region = us-central1\r\n",
      "zone = us-central1-a\r\n",
      "[core]\r\n",
      "account = anallamothu@nvidia.com\r\n",
      "disable_usage_reporting = True\r\n",
      "project = k80-exploration\r\n",
      "\r\n",
      "Your active configuration is: [default]\r\n"
     ]
    }
   ],
   "source": [
    "!gcloud config list"
   ]
  },
  {
   "cell_type": "code",
   "execution_count": null,
   "id": "stone-transition",
   "metadata": {},
   "outputs": [],
   "source": [
    "#!gcloud beta compute --project=k80-exploration instances create k80-sample-cluster --zone=us-central1-a --machine-type=e2-standard-2 --subnet=default --network-tier=PREMIUM --maintenance-policy=TERMINATE --service-account=342959614509-compute@developer.gserviceaccount.com --scopes=https://www.googleapis.com/auth/devstorage.read_only,https://www.googleapis.com/auth/logging.write,https://www.googleapis.com/auth/monitoring.write,https://www.googleapis.com/auth/servicecontrol,https://www.googleapis.com/auth/service.management.readonly,https://www.googleapis.com/auth/trace.append --tags=http-server,https-server --image=debian-10-buster-v20210420 --image-project=debian-cloud --boot-disk-size=10GB --boot-disk-type=pd-balanced --boot-disk-device-name=k80-sample-cluster --no-shielded-secure-boot --shielded-vtpm --shielded-integrity-monitoring --reservation-affinity=any"
   ]
  },
  {
   "cell_type": "code",
   "execution_count": 13,
   "id": "digital-parliament",
   "metadata": {},
   "outputs": [
    {
     "name": "stdout",
     "output_type": "stream",
     "text": [
      "Waiting on operation [projects/k80-exploration/regions/us-central1/operations/9e22add2-a071-3375-98a9-98f5ccd55dc8].\n",
      "Waiting for cluster creation operation...done.                                 \n",
      "Created [https://dataproc.googleapis.com/v1/projects/k80-exploration/regions/us-central1/clusters/dask-k80-exploration] Cluster placed in zone [us-central1-a].\n"
     ]
    }
   ],
   "source": [
    "!gcloud dataproc clusters create dask-k80-exploration --region us-central1 --master-machine-type n1-standard-16 --worker-machine-type n1-standard-16 --network dask-cluster --image-version preview --initialization-actions gs://goog-dataproc-initialization-actions-us-central1/dask/dask.sh --metadata dask-runtime=yarn --optional-components JUPYTER --enable-component-gateway"
   ]
  },
  {
   "cell_type": "code",
   "execution_count": 12,
   "id": "excited-karma",
   "metadata": {},
   "outputs": [
    {
     "name": "stdout",
     "output_type": "stream",
     "text": [
      "NAME          SUBNET_MODE  BGP_ROUTING_MODE  IPV4_RANGE  GATEWAY_IPV4\r\n",
      "dask-cluster  AUTO         GLOBAL\r\n",
      "default       CUSTOM       REGIONAL\r\n",
      "dfisknet      AUTO         GLOBAL\r\n",
      "ijovicicvpc   AUTO         REGIONAL\r\n",
      "ncclnet       CUSTOM       REGIONAL\r\n",
      "remote        CUSTOM       REGIONAL\r\n",
      "vpc-cas       CUSTOM       REGIONAL\r\n"
     ]
    }
   ],
   "source": [
    "#!gcloud compute networks list"
   ]
  },
  {
   "cell_type": "code",
   "execution_count": null,
   "id": "collectible-biology",
   "metadata": {},
   "outputs": [],
   "source": []
  }
 ],
 "metadata": {
  "kernelspec": {
   "display_name": "Python 3",
   "language": "python",
   "name": "python3"
  },
  "language_info": {
   "codemirror_mode": {
    "name": "ipython",
    "version": 3
   },
   "file_extension": ".py",
   "mimetype": "text/x-python",
   "name": "python",
   "nbconvert_exporter": "python",
   "pygments_lexer": "ipython3",
   "version": "3.8.8"
  }
 },
 "nbformat": 4,
 "nbformat_minor": 5
}
